{
 "cells": [
  {
   "cell_type": "code",
   "execution_count": 1,
   "id": "87d205c1",
   "metadata": {},
   "outputs": [
    {
     "name": "stdout",
     "output_type": "stream",
     "text": [
      "Requirement already satisfied: numpy in c:\\users\\i4357\\anaconda3\\lib\\site-packages (1.20.3)\n"
     ]
    }
   ],
   "source": [
    "!pip install numpy\n"
   ]
  },
  {
   "cell_type": "code",
   "execution_count": 2,
   "id": "3ed50326",
   "metadata": {},
   "outputs": [],
   "source": [
    "import numpy as np"
   ]
  },
  {
   "cell_type": "markdown",
   "id": "f1844739",
   "metadata": {},
   "source": [
    "\n",
    "# CREATE"
   ]
  },
  {
   "cell_type": "code",
   "execution_count": 4,
   "id": "0da2f507",
   "metadata": {},
   "outputs": [],
   "source": [
    "data=np.random.rand(2,3,4)#random array\n",
    "zeroes=np.zeros((2,2,2))#array of zeros\n",
    "full=np.full((2,2,2),7)#array of 7's\n",
    "ones=np.ones((2,2,2))#array of ones\n"
   ]
  },
  {
   "cell_type": "code",
   "execution_count": 5,
   "id": "5601af5f",
   "metadata": {},
   "outputs": [
    {
     "data": {
      "text/plain": [
       "array([[[0.6570936 , 0.3477199 , 0.33336763, 0.73350875],\n",
       "        [0.09672325, 0.30882683, 0.89071918, 0.49215522],\n",
       "        [0.79312167, 0.21698541, 0.61006965, 0.72583475]],\n",
       "\n",
       "       [[0.73102646, 0.56149379, 0.18943447, 0.81572932],\n",
       "        [0.05283257, 0.70673672, 0.18371749, 0.06018925],\n",
       "        [0.38927535, 0.65983723, 0.66414771, 0.56534359]]])"
      ]
     },
     "execution_count": 5,
     "metadata": {},
     "output_type": "execute_result"
    }
   ],
   "source": [
    "data"
   ]
  },
  {
   "cell_type": "code",
   "execution_count": 6,
   "id": "943709c8",
   "metadata": {},
   "outputs": [
    {
     "data": {
      "text/plain": [
       "array([[[0., 0.],\n",
       "        [0., 0.]],\n",
       "\n",
       "       [[0., 0.],\n",
       "        [0., 0.]]])"
      ]
     },
     "execution_count": 6,
     "metadata": {},
     "output_type": "execute_result"
    }
   ],
   "source": [
    "zeroes"
   ]
  },
  {
   "cell_type": "code",
   "execution_count": 7,
   "id": "b6c372da",
   "metadata": {},
   "outputs": [
    {
     "data": {
      "text/plain": [
       "array([[[1., 1.],\n",
       "        [1., 1.]],\n",
       "\n",
       "       [[1., 1.],\n",
       "        [1., 1.]]])"
      ]
     },
     "execution_count": 7,
     "metadata": {},
     "output_type": "execute_result"
    }
   ],
   "source": [
    "ones"
   ]
  },
  {
   "cell_type": "code",
   "execution_count": 8,
   "id": "6a49c34f",
   "metadata": {},
   "outputs": [
    {
     "data": {
      "text/plain": [
       "array([[[7, 7],\n",
       "        [7, 7]],\n",
       "\n",
       "       [[7, 7],\n",
       "        [7, 7]]])"
      ]
     },
     "execution_count": 8,
     "metadata": {},
     "output_type": "execute_result"
    }
   ],
   "source": [
    "full"
   ]
  },
  {
   "cell_type": "code",
   "execution_count": 9,
   "id": "70383e48",
   "metadata": {},
   "outputs": [],
   "source": [
    "arr=np.array([[1,2,3,4],[2,3,4,5]])"
   ]
  },
  {
   "cell_type": "code",
   "execution_count": 10,
   "id": "f2d0bf90",
   "metadata": {},
   "outputs": [
    {
     "data": {
      "text/plain": [
       "array([[1, 2, 3, 4],\n",
       "       [2, 3, 4, 5]])"
      ]
     },
     "execution_count": 10,
     "metadata": {},
     "output_type": "execute_result"
    }
   ],
   "source": [
    "arr"
   ]
  },
  {
   "cell_type": "code",
   "execution_count": 11,
   "id": "f15504d8",
   "metadata": {},
   "outputs": [
    {
     "data": {
      "text/plain": [
       "numpy.ndarray"
      ]
     },
     "execution_count": 11,
     "metadata": {},
     "output_type": "execute_result"
    }
   ],
   "source": [
    "type(arr)"
   ]
  },
  {
   "cell_type": "markdown",
   "id": "446bbd27",
   "metadata": {},
   "source": [
    "# READ"
   ]
  },
  {
   "cell_type": "code",
   "execution_count": 15,
   "id": "6f2d0506",
   "metadata": {},
   "outputs": [],
   "source": [
    "shape=data.shape\n",
    "\n",
    "size=data.size#no of elements\n",
    "\n",
    "types=data.dtype#datatype of elements"
   ]
  },
  {
   "cell_type": "code",
   "execution_count": 16,
   "id": "d0c8c1e0",
   "metadata": {},
   "outputs": [
    {
     "data": {
      "text/plain": [
       "(2, 3, 4)"
      ]
     },
     "execution_count": 16,
     "metadata": {},
     "output_type": "execute_result"
    }
   ],
   "source": [
    "shape"
   ]
  },
  {
   "cell_type": "code",
   "execution_count": 17,
   "id": "ae1c405f",
   "metadata": {},
   "outputs": [
    {
     "data": {
      "text/plain": [
       "24"
      ]
     },
     "execution_count": 17,
     "metadata": {},
     "output_type": "execute_result"
    }
   ],
   "source": [
    "size"
   ]
  },
  {
   "cell_type": "code",
   "execution_count": 18,
   "id": "3dd85d06",
   "metadata": {},
   "outputs": [
    {
     "data": {
      "text/plain": [
       "dtype('float64')"
      ]
     },
     "execution_count": 18,
     "metadata": {},
     "output_type": "execute_result"
    }
   ],
   "source": [
    "types"
   ]
  },
  {
   "cell_type": "code",
   "execution_count": 22,
   "id": "a1e6d2ce",
   "metadata": {},
   "outputs": [],
   "source": [
    "arr=data[0]\n",
    "slicer=data[0:2]\n",
    "slicer1=data[0][0]\n",
    "reverse=data[-1]\n",
    "singlevel=data[0][0][0]"
   ]
  },
  {
   "cell_type": "code",
   "execution_count": 20,
   "id": "4a478381",
   "metadata": {},
   "outputs": [
    {
     "data": {
      "text/plain": [
       "array([[0.6570936 , 0.3477199 , 0.33336763, 0.73350875],\n",
       "       [0.09672325, 0.30882683, 0.89071918, 0.49215522],\n",
       "       [0.79312167, 0.21698541, 0.61006965, 0.72583475]])"
      ]
     },
     "execution_count": 20,
     "metadata": {},
     "output_type": "execute_result"
    }
   ],
   "source": [
    "arr"
   ]
  },
  {
   "cell_type": "code",
   "execution_count": 21,
   "id": "6a8b19e6",
   "metadata": {},
   "outputs": [
    {
     "data": {
      "text/plain": [
       "array([[[0.6570936 , 0.3477199 , 0.33336763, 0.73350875],\n",
       "        [0.09672325, 0.30882683, 0.89071918, 0.49215522],\n",
       "        [0.79312167, 0.21698541, 0.61006965, 0.72583475]],\n",
       "\n",
       "       [[0.73102646, 0.56149379, 0.18943447, 0.81572932],\n",
       "        [0.05283257, 0.70673672, 0.18371749, 0.06018925],\n",
       "        [0.38927535, 0.65983723, 0.66414771, 0.56534359]]])"
      ]
     },
     "execution_count": 21,
     "metadata": {},
     "output_type": "execute_result"
    }
   ],
   "source": [
    "slicer"
   ]
  },
  {
   "cell_type": "code",
   "execution_count": 23,
   "id": "554cc2eb",
   "metadata": {},
   "outputs": [
    {
     "data": {
      "text/plain": [
       "array([0.6570936 , 0.3477199 , 0.33336763, 0.73350875])"
      ]
     },
     "execution_count": 23,
     "metadata": {},
     "output_type": "execute_result"
    }
   ],
   "source": [
    "slicer1\n"
   ]
  },
  {
   "cell_type": "code",
   "execution_count": 24,
   "id": "7e3dd2a5",
   "metadata": {},
   "outputs": [
    {
     "data": {
      "text/plain": [
       "array([[0.73102646, 0.56149379, 0.18943447, 0.81572932],\n",
       "       [0.05283257, 0.70673672, 0.18371749, 0.06018925],\n",
       "       [0.38927535, 0.65983723, 0.66414771, 0.56534359]])"
      ]
     },
     "execution_count": 24,
     "metadata": {},
     "output_type": "execute_result"
    }
   ],
   "source": [
    "reverse"
   ]
  },
  {
   "cell_type": "code",
   "execution_count": 25,
   "id": "efb76c7e",
   "metadata": {},
   "outputs": [
    {
     "data": {
      "text/plain": [
       "0.6570935989904122"
      ]
     },
     "execution_count": 25,
     "metadata": {},
     "output_type": "execute_result"
    }
   ],
   "source": [
    "singlevel"
   ]
  },
  {
   "cell_type": "markdown",
   "id": "3f5064b3",
   "metadata": {},
   "source": [
    "# UPDATE"
   ]
  },
  {
   "cell_type": "code",
   "execution_count": 26,
   "id": "bfd94150",
   "metadata": {},
   "outputs": [],
   "source": [
    "list1=np.random.rand(10)\n",
    "list2=np.random.rand(10)"
   ]
  },
  {
   "cell_type": "code",
   "execution_count": 27,
   "id": "3c753b71",
   "metadata": {},
   "outputs": [
    {
     "data": {
      "text/plain": [
       "array([0.22622781, 0.47224429, 0.62798007, 0.18306165, 0.81043911,\n",
       "       0.99037515, 0.08686433, 0.95130209, 0.37554917, 0.4792316 ])"
      ]
     },
     "execution_count": 27,
     "metadata": {},
     "output_type": "execute_result"
    }
   ],
   "source": [
    "list1"
   ]
  },
  {
   "cell_type": "code",
   "execution_count": 28,
   "id": "aaa9c4b7",
   "metadata": {},
   "outputs": [
    {
     "data": {
      "text/plain": [
       "array([0.23790943, 0.84040749, 0.34340609, 0.94583449, 0.91373231,\n",
       "       0.81960351, 0.56265919, 0.15085964, 0.1821996 , 0.50585843])"
      ]
     },
     "execution_count": 28,
     "metadata": {},
     "output_type": "execute_result"
    }
   ],
   "source": [
    "list2"
   ]
  },
  {
   "cell_type": "code",
   "execution_count": 29,
   "id": "a129a1f6",
   "metadata": {},
   "outputs": [],
   "source": [
    "add=np.add(list1,list2)\n",
    "sub=np.subtract(list1,list2)\n",
    "div=np.divide(list1,list2)\n",
    "mul=np.multiply(list1,list2)\n",
    "dot=np.dot(list1,list2)#dot product=\n"
   ]
  },
  {
   "cell_type": "code",
   "execution_count": 30,
   "id": "d380fe68",
   "metadata": {},
   "outputs": [
    {
     "data": {
      "text/plain": [
       "array([0.46413723, 1.31265178, 0.97138616, 1.12889614, 1.72417142,\n",
       "       1.80997865, 0.64952353, 1.10216173, 0.55774877, 0.98509004])"
      ]
     },
     "execution_count": 30,
     "metadata": {},
     "output_type": "execute_result"
    }
   ],
   "source": [
    "add"
   ]
  },
  {
   "cell_type": "code",
   "execution_count": 31,
   "id": "eb370390",
   "metadata": {},
   "outputs": [
    {
     "data": {
      "text/plain": [
       "array([-0.01168162, -0.3681632 ,  0.28457399, -0.76277284, -0.10329319,\n",
       "        0.17077164, -0.47579486,  0.80044244,  0.19334957, -0.02662683])"
      ]
     },
     "execution_count": 31,
     "metadata": {},
     "output_type": "execute_result"
    }
   ],
   "source": [
    "sub"
   ]
  },
  {
   "cell_type": "code",
   "execution_count": 32,
   "id": "0339fbbd",
   "metadata": {},
   "outputs": [
    {
     "data": {
      "text/plain": [
       "array([0.95089888, 0.56192299, 1.82868067, 0.19354512, 0.88695464,\n",
       "       1.20835885, 0.15438179, 6.30587521, 2.06119645, 0.94736308])"
      ]
     },
     "execution_count": 32,
     "metadata": {},
     "output_type": "execute_result"
    }
   ],
   "source": [
    "div"
   ]
  },
  {
   "cell_type": "code",
   "execution_count": 33,
   "id": "d2900284",
   "metadata": {},
   "outputs": [
    {
     "data": {
      "text/plain": [
       "array([0.05382173, 0.39687764, 0.21565218, 0.17314602, 0.7405244 ,\n",
       "       0.81171494, 0.04887502, 0.14351309, 0.06842491, 0.24242335])"
      ]
     },
     "execution_count": 33,
     "metadata": {},
     "output_type": "execute_result"
    }
   ],
   "source": [
    "mul"
   ]
  },
  {
   "cell_type": "code",
   "execution_count": 34,
   "id": "6c460ce3",
   "metadata": {},
   "outputs": [
    {
     "data": {
      "text/plain": [
       "2.8949732736558182"
      ]
     },
     "execution_count": 34,
     "metadata": {},
     "output_type": "execute_result"
    }
   ],
   "source": [
    "dot"
   ]
  },
  {
   "cell_type": "code",
   "execution_count": 46,
   "id": "fbac79fc",
   "metadata": {},
   "outputs": [],
   "source": [
    "#SAPLEM (maths funcs)\n",
    "sqrt=np.sqrt(25)\n",
    "ab1=np.abs(-2)\n",
    "ab2=np.abs(2)\n",
    "pwr=np.power(3,4)\n",
    "log=np.log(10)\n",
    "exp=np.exp([2,4])\n",
    "mins=np.min(list1)\n",
    "maxs=np.max(list1)"
   ]
  },
  {
   "cell_type": "code",
   "execution_count": 36,
   "id": "9fb31400",
   "metadata": {},
   "outputs": [
    {
     "data": {
      "text/plain": [
       "5.0"
      ]
     },
     "execution_count": 36,
     "metadata": {},
     "output_type": "execute_result"
    }
   ],
   "source": [
    "sqrt"
   ]
  },
  {
   "cell_type": "code",
   "execution_count": 37,
   "id": "3b0bc945",
   "metadata": {},
   "outputs": [
    {
     "data": {
      "text/plain": [
       "2"
      ]
     },
     "execution_count": 37,
     "metadata": {},
     "output_type": "execute_result"
    }
   ],
   "source": [
    "ab1"
   ]
  },
  {
   "cell_type": "code",
   "execution_count": 47,
   "id": "b52b0d51",
   "metadata": {},
   "outputs": [
    {
     "data": {
      "text/plain": [
       "2"
      ]
     },
     "execution_count": 47,
     "metadata": {},
     "output_type": "execute_result"
    }
   ],
   "source": [
    "ab2"
   ]
  },
  {
   "cell_type": "code",
   "execution_count": 39,
   "id": "1c61451b",
   "metadata": {},
   "outputs": [
    {
     "data": {
      "text/plain": [
       "81"
      ]
     },
     "execution_count": 39,
     "metadata": {},
     "output_type": "execute_result"
    }
   ],
   "source": [
    "pwr"
   ]
  },
  {
   "cell_type": "code",
   "execution_count": 40,
   "id": "6dfebdcf",
   "metadata": {},
   "outputs": [
    {
     "data": {
      "text/plain": [
       "2.302585092994046"
      ]
     },
     "execution_count": 40,
     "metadata": {},
     "output_type": "execute_result"
    }
   ],
   "source": [
    "log"
   ]
  },
  {
   "cell_type": "code",
   "execution_count": 45,
   "id": "32133e08",
   "metadata": {},
   "outputs": [
    {
     "data": {
      "text/plain": [
       "array([ 7.3890561 , 54.59815003])"
      ]
     },
     "execution_count": 45,
     "metadata": {},
     "output_type": "execute_result"
    }
   ],
   "source": [
    "exp"
   ]
  },
  {
   "cell_type": "code",
   "execution_count": 42,
   "id": "0033b2fd",
   "metadata": {},
   "outputs": [
    {
     "data": {
      "text/plain": [
       "0.08686433279701411"
      ]
     },
     "execution_count": 42,
     "metadata": {},
     "output_type": "execute_result"
    }
   ],
   "source": [
    "mins"
   ]
  },
  {
   "cell_type": "code",
   "execution_count": 43,
   "id": "066b99ea",
   "metadata": {},
   "outputs": [
    {
     "data": {
      "text/plain": [
       "0.9903751455092626"
      ]
     },
     "execution_count": 43,
     "metadata": {},
     "output_type": "execute_result"
    }
   ],
   "source": [
    "maxs"
   ]
  },
  {
   "cell_type": "code",
   "execution_count": 48,
   "id": "6a376be0",
   "metadata": {},
   "outputs": [
    {
     "data": {
      "text/plain": [
       "array([[[0.6570936 , 0.3477199 , 0.33336763, 0.73350875],\n",
       "        [0.09672325, 0.30882683, 0.89071918, 0.49215522],\n",
       "        [0.79312167, 0.21698541, 0.61006965, 0.72583475]],\n",
       "\n",
       "       [[0.73102646, 0.56149379, 0.18943447, 0.81572932],\n",
       "        [0.05283257, 0.70673672, 0.18371749, 0.06018925],\n",
       "        [0.38927535, 0.65983723, 0.66414771, 0.56534359]]])"
      ]
     },
     "execution_count": 48,
     "metadata": {},
     "output_type": "execute_result"
    }
   ],
   "source": [
    "data"
   ]
  },
  {
   "cell_type": "code",
   "execution_count": 49,
   "id": "0730a44c",
   "metadata": {},
   "outputs": [],
   "source": [
    "data[0][0][0]=7"
   ]
  },
  {
   "cell_type": "code",
   "execution_count": 50,
   "id": "4650c7ac",
   "metadata": {},
   "outputs": [
    {
     "data": {
      "text/plain": [
       "array([[[7.        , 0.3477199 , 0.33336763, 0.73350875],\n",
       "        [0.09672325, 0.30882683, 0.89071918, 0.49215522],\n",
       "        [0.79312167, 0.21698541, 0.61006965, 0.72583475]],\n",
       "\n",
       "       [[0.73102646, 0.56149379, 0.18943447, 0.81572932],\n",
       "        [0.05283257, 0.70673672, 0.18371749, 0.06018925],\n",
       "        [0.38927535, 0.65983723, 0.66414771, 0.56534359]]])"
      ]
     },
     "execution_count": 50,
     "metadata": {},
     "output_type": "execute_result"
    }
   ],
   "source": [
    "data"
   ]
  },
  {
   "cell_type": "code",
   "execution_count": 51,
   "id": "fd0b7f60",
   "metadata": {},
   "outputs": [],
   "source": [
    "data.sort()"
   ]
  },
  {
   "cell_type": "code",
   "execution_count": 52,
   "id": "d38c0146",
   "metadata": {},
   "outputs": [
    {
     "data": {
      "text/plain": [
       "array([[[0.33336763, 0.3477199 , 0.73350875, 7.        ],\n",
       "        [0.09672325, 0.30882683, 0.49215522, 0.89071918],\n",
       "        [0.21698541, 0.61006965, 0.72583475, 0.79312167]],\n",
       "\n",
       "       [[0.18943447, 0.56149379, 0.73102646, 0.81572932],\n",
       "        [0.05283257, 0.06018925, 0.18371749, 0.70673672],\n",
       "        [0.38927535, 0.56534359, 0.65983723, 0.66414771]]])"
      ]
     },
     "execution_count": 52,
     "metadata": {},
     "output_type": "execute_result"
    }
   ],
   "source": [
    "data"
   ]
  },
  {
   "cell_type": "code",
   "execution_count": 53,
   "id": "f29d74dd",
   "metadata": {},
   "outputs": [
    {
     "name": "stdout",
     "output_type": "stream",
     "text": [
      "(2, 3, 4)\n"
     ]
    }
   ],
   "source": [
    "print(data.shape)"
   ]
  },
  {
   "cell_type": "code",
   "execution_count": 54,
   "id": "ee658253",
   "metadata": {},
   "outputs": [
    {
     "data": {
      "text/plain": [
       "(2, 2, 6)"
      ]
     },
     "execution_count": 54,
     "metadata": {},
     "output_type": "execute_result"
    }
   ],
   "source": [
    "data=data.reshape((2,2,-1))#-1 means it would take a random value for that particular indice in the shape\n",
    "data.shape"
   ]
  },
  {
   "cell_type": "code",
   "execution_count": 56,
   "id": "7eb96911",
   "metadata": {},
   "outputs": [
    {
     "data": {
      "text/plain": [
       "array([0., 0., 0., 0., 0., 0., 0., 0.])"
      ]
     },
     "execution_count": 56,
     "metadata": {},
     "output_type": "execute_result"
    }
   ],
   "source": [
    "zeroes=np.zeros((8))\n",
    "zeroes\n"
   ]
  },
  {
   "cell_type": "code",
   "execution_count": 57,
   "id": "f70e4b56",
   "metadata": {},
   "outputs": [
    {
     "data": {
      "text/plain": [
       "array([0., 0., 0., 0., 0., 0., 0., 0., 3., 4.])"
      ]
     },
     "execution_count": 57,
     "metadata": {},
     "output_type": "execute_result"
    }
   ],
   "source": [
    "zeroes=np.append(zeroes,[3,4])#adds the set of values in the end\n",
    "zeroes"
   ]
  },
  {
   "cell_type": "code",
   "execution_count": 63,
   "id": "e6cb3051",
   "metadata": {},
   "outputs": [
    {
     "data": {
      "text/plain": [
       "array([0., 0., 1., 1., 0., 0., 0., 0., 0., 0., 3., 4.])"
      ]
     },
     "execution_count": 63,
     "metadata": {},
     "output_type": "execute_result"
    }
   ],
   "source": [
    "#run two times so two 1's\n",
    "zeroes=np.insert(zeroes,2,1)#insert(array name,position,value)\n",
    "zeroes"
   ]
  },
  {
   "cell_type": "markdown",
   "id": "b9e3f8f6",
   "metadata": {},
   "source": [
    "# DELETE\n"
   ]
  },
  {
   "cell_type": "code",
   "execution_count": 65,
   "id": "9440379d",
   "metadata": {},
   "outputs": [
    {
     "data": {
      "text/plain": [
       "array([[[0.33336763, 0.3477199 , 0.73350875, 7.        , 0.09672325,\n",
       "         0.30882683],\n",
       "        [0.49215522, 0.89071918, 0.21698541, 0.61006965, 0.72583475,\n",
       "         0.79312167]],\n",
       "\n",
       "       [[0.18943447, 0.56149379, 0.73102646, 0.81572932, 0.05283257,\n",
       "         0.06018925],\n",
       "        [0.18371749, 0.70673672, 0.38927535, 0.56534359, 0.65983723,\n",
       "         0.66414771]]])"
      ]
     },
     "execution_count": 65,
     "metadata": {},
     "output_type": "execute_result"
    }
   ],
   "source": [
    "data"
   ]
  },
  {
   "cell_type": "code",
   "execution_count": 66,
   "id": "0262243a",
   "metadata": {},
   "outputs": [
    {
     "data": {
      "text/plain": [
       "array([[[0.49215522, 0.89071918, 0.21698541, 0.61006965, 0.72583475,\n",
       "         0.79312167]],\n",
       "\n",
       "       [[0.18371749, 0.70673672, 0.38927535, 0.56534359, 0.65983723,\n",
       "         0.66414771]]])"
      ]
     },
     "execution_count": 66,
     "metadata": {},
     "output_type": "execute_result"
    }
   ],
   "source": [
    "np.delete(data,0, axis=1)#delete(array,value,axis(1 for row 0 for column))"
   ]
  },
  {
   "cell_type": "code",
   "execution_count": 70,
   "id": "5a9d8a24",
   "metadata": {},
   "outputs": [
    {
     "data": {
      "text/plain": [
       "array([[[0.18943447, 0.56149379, 0.73102646, 0.81572932, 0.05283257,\n",
       "         0.06018925],\n",
       "        [0.18371749, 0.70673672, 0.38927535, 0.56534359, 0.65983723,\n",
       "         0.66414771]]])"
      ]
     },
     "execution_count": 70,
     "metadata": {},
     "output_type": "execute_result"
    }
   ],
   "source": [
    "np.delete(data,0,axis=0)"
   ]
  },
  {
   "cell_type": "code",
   "execution_count": 67,
   "id": "13d1fc11",
   "metadata": {},
   "outputs": [],
   "source": [
    "np.save(\"new array\",data)"
   ]
  },
  {
   "cell_type": "code",
   "execution_count": 68,
   "id": "090697d9",
   "metadata": {},
   "outputs": [],
   "source": [
    "test=np.load(\"new array.npy\")"
   ]
  },
  {
   "cell_type": "code",
   "execution_count": 69,
   "id": "9164eacb",
   "metadata": {},
   "outputs": [
    {
     "data": {
      "text/plain": [
       "array([[[0.33336763, 0.3477199 , 0.73350875, 7.        , 0.09672325,\n",
       "         0.30882683],\n",
       "        [0.49215522, 0.89071918, 0.21698541, 0.61006965, 0.72583475,\n",
       "         0.79312167]],\n",
       "\n",
       "       [[0.18943447, 0.56149379, 0.73102646, 0.81572932, 0.05283257,\n",
       "         0.06018925],\n",
       "        [0.18371749, 0.70673672, 0.38927535, 0.56534359, 0.65983723,\n",
       "         0.66414771]]])"
      ]
     },
     "execution_count": 69,
     "metadata": {},
     "output_type": "execute_result"
    }
   ],
   "source": [
    "test"
   ]
  },
  {
   "cell_type": "code",
   "execution_count": null,
   "id": "df9f1a4c",
   "metadata": {},
   "outputs": [],
   "source": []
  }
 ],
 "metadata": {
  "kernelspec": {
   "display_name": "Python 3 (ipykernel)",
   "language": "python",
   "name": "python3"
  },
  "language_info": {
   "codemirror_mode": {
    "name": "ipython",
    "version": 3
   },
   "file_extension": ".py",
   "mimetype": "text/x-python",
   "name": "python",
   "nbconvert_exporter": "python",
   "pygments_lexer": "ipython3",
   "version": "3.9.7"
  }
 },
 "nbformat": 4,
 "nbformat_minor": 5
}
